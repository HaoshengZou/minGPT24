{
 "cells": [
  {
   "cell_type": "markdown",
   "metadata": {
    "pycharm": {
     "name": "#%% md\n"
    }
   },
   "source": [
    "A cute little demo showing the simplest usage of minGPT. Configured to run fine on Macbook Air in like a minute."
   ]
  },
  {
   "cell_type": "code",
   "execution_count": 1,
   "metadata": {
    "pycharm": {
     "name": "#%%\n"
    }
   },
   "outputs": [],
   "source": [
    "import torch\n",
    "from torch.utils.data import Dataset\n",
    "from torch.utils.data.dataloader import DataLoader\n",
    "from mingpt.utils import set_seed\n",
    "import numpy as np\n",
    "set_seed(3407)"
   ]
  },
  {
   "cell_type": "code",
   "execution_count": 2,
   "outputs": [],
   "source": [
    "# process dataset\n",
    "from mingpt.bpe import Encoder, get_encoder\n",
    "e = get_encoder()\n",
    "# x_gpt = [e.encode(d) for d in x.split()]\n",
    "# y_gpt = e.encode_equation(y)\n",
    "# calcu = eval(y)"
   ],
   "metadata": {
    "collapsed": false,
    "pycharm": {
     "name": "#%%\n"
    }
   }
  },
  {
   "cell_type": "code",
   "execution_count": 1,
   "outputs": [
    {
     "data": {
      "text/plain": "[('2 2 8 11', 'no answer'),\n ('2 2 8 12', '12+2+2+8'),\n ('2 2 8 13', 'no answer'),\n ('2 2 9 9', 'no answer'),\n ('2 2 9 10', '(9-2)*2+10'),\n ('2 2 9 11', '11+2+2+9'),\n ('2 2 9 12', '(2+2)*9-12'),\n ('2 2 9 13', 'no answer'),\n ('2 2 10 10', '10+10+2+2'),\n ('2 2 10 11', '(11*2-10)*2')]"
     },
     "execution_count": 1,
     "metadata": {},
     "output_type": "execute_result"
    }
   ],
   "source": [
    "raw_data_path = '24/answer.txt'\n",
    "with open(raw_data_path, 'r') as f:\n",
    "    raw_data = f.readlines()\n",
    "\n",
    "raw_set = list()\n",
    "for item in raw_data:\n",
    "    x, y = item.strip().split(':')\n",
    "    x, y = x.strip(), y.strip()\n",
    "    if 'nope' in y:\n",
    "        y = 'no answer'\n",
    "    else:\n",
    "        y = y.replace('×', '*')\n",
    "    raw_set.append((x, y))\n",
    "\n",
    "raw_set[515:525]"
   ],
   "metadata": {
    "collapsed": false,
    "pycharm": {
     "name": "#%%\n"
    },
    "ExecuteTime": {
     "end_time": "2023-07-05T12:48:14.732368Z",
     "start_time": "2023-07-05T12:48:14.713415Z"
    }
   }
  },
  {
   "cell_type": "code",
   "execution_count": 4,
   "outputs": [
    {
     "name": "stdout",
     "output_type": "stream",
     "text": [
      "495 404 91\n"
     ]
    }
   ],
   "source": [
    "# some stats\n",
    "cnt_1_9 = cnt_1_9yes = cnt_1_9_no = 0\n",
    "for x, y in raw_set:\n",
    "    digits = x.split()\n",
    "    if all(int(d) < 10 for d in digits):  # 只看 1 到 9\n",
    "        cnt_1_9 += 1\n",
    "        if 'no' in y:\n",
    "            cnt_1_9_no += 1\n",
    "        else:\n",
    "            cnt_1_9yes += 1\n",
    "print(cnt_1_9, cnt_1_9yes, cnt_1_9_no)"
   ],
   "metadata": {
    "collapsed": false,
    "ExecuteTime": {
     "end_time": "2023-07-05T12:51:30.283710Z",
     "start_time": "2023-07-05T12:51:30.282357Z"
    }
   }
  },
  {
   "cell_type": "code",
   "execution_count": 18,
   "outputs": [
    {
     "name": "stdout",
     "output_type": "stream",
     "text": [
      "[('2 2 2 4', '(2+2+2)*4'), ('4 7 8 9', '(7+8-9)*4'), ('6 8 9 9', '(9+9)*8/6'), ('3 3 8 9', '(3+8)*3-9'), ('4 4 5 7', '(4+7-5)*4'), ('2 4 6 9', '(4-2)*9+6'), ('1 3 9 9', '(9-1)*9/3'), ('1 6 8 8', '(1+8-6)*8'), ('4 6 6 7', '(7-4)*6+6'), ('5 5 6 7', '(5*5+6)-7')]\n"
     ]
    }
   ],
   "source": [
    "# split train/test\n",
    "import numpy as np\n",
    "set1_9 = [(x, y) for x, y in raw_set if all(int(d) < 10 for d in x.split()) and 'no' not in y]\n",
    "# print(set1_9[:10])\n",
    "np.random.seed(0)\n",
    "np.random.shuffle(set1_9)\n",
    "train_xys, test_xys = set1_9[:-80], set1_9[-80:]\n",
    "# print(len(train_xys), len(test_xys))\n",
    "# print(train_xys[:10])\n",
    "print(test_xys[:10])"
   ],
   "metadata": {
    "collapsed": false,
    "ExecuteTime": {
     "end_time": "2023-07-07T12:14:20.499520Z",
     "start_time": "2023-07-07T12:14:20.497200Z"
    }
   }
  },
  {
   "cell_type": "code",
   "execution_count": 15,
   "outputs": [],
   "source": [
    "import pickle\n",
    "with open('24/dataset1_9.pkl', 'wb') as f:\n",
    "    res = {'train': train_xys, 'test': test_xys}\n",
    "    pickle.dump(res, f)"
   ],
   "metadata": {
    "collapsed": false,
    "ExecuteTime": {
     "end_time": "2023-07-05T13:03:28.537323Z",
     "start_time": "2023-07-05T13:03:28.524217Z"
    }
   }
  },
  {
   "cell_type": "code",
   "execution_count": 17,
   "outputs": [
    {
     "name": "stdout",
     "output_type": "stream",
     "text": [
      "['train', 'test']\n"
     ]
    }
   ],
   "source": [
    "with open('24/dataset1_9.pkl', 'rb') as f:\n",
    "    res = pickle.load(f)\n",
    "print(list(res.keys()))"
   ],
   "metadata": {
    "collapsed": false,
    "ExecuteTime": {
     "end_time": "2023-07-05T13:04:54.476938Z",
     "start_time": "2023-07-05T13:04:54.473782Z"
    }
   }
  },
  {
   "cell_type": "code",
   "execution_count": 4,
   "outputs": [],
   "source": [
    "class FixedLenDataset(Dataset):\n",
    "    \"\"\"\n",
    "    Dataset for the Sort problem. E.g. for problem length 6:\n",
    "    Input: 0 0 2 1 0 1 -> Output: 0 0 0 1 1 2\n",
    "    Which will feed into the transformer concatenated as:\n",
    "    input:  0 0 2 1 0 1 0 0 0 1 1\n",
    "    output: I I I I I 0 0 0 1 1 2\n",
    "    where I is \"ignore\", as the transformer is reading the input sequence\n",
    "    \"\"\"\n",
    "\n",
    "    def __init__(self, raw_set):\n",
    "        self.raw_set = raw_set\n",
    "        self.tokenizer = get_encoder()\n",
    "        self.max_len = 14  # 统计最大14\n",
    "\n",
    "    def __len__(self):\n",
    "        return len(self.raw_set)\n",
    "\n",
    "    def get_vocab_size(self):\n",
    "        return 50257\n",
    "\n",
    "    def get_block_size(self):\n",
    "        # fixed length version:\n",
    "        # return self.length * 2 - 1\n",
    "        # return 4 + 4 + 3 + 2 - 1  # 4数字+4数字+3运算符+2括号-1 = 12\n",
    "\n",
    "        # padding version:\n",
    "        return self.max_len\n",
    "\n",
    "    def __getitem__(self, idx):\n",
    "        inp, sol = self.raw_set[idx]\n",
    "        inpp = [self.tokenizer.encode(d)[0] for d in inp.split()]\n",
    "        soll = self.tokenizer.encode(sol) if 'no answer' in sol else self.tokenizer.encode_equation(sol)\n",
    "        # padding here\n",
    "        padding_len = self.max_len - len(inpp) - len(soll) + 1\n",
    "        soll += [50256] * padding_len\n",
    "\n",
    "        # print(inpp, soll)\n",
    "        inpp, soll = torch.tensor(inpp, dtype=torch.long), torch.tensor(soll, dtype=torch.long)\n",
    "\n",
    "        # concatenate the problem specification and the solution\n",
    "        cat = torch.cat((inpp, soll), dim=0)\n",
    "\n",
    "        # the inputs to the transformer will be the offset sequence\n",
    "        x = cat[:-1].clone()\n",
    "        y = cat[1:].clone()\n",
    "        # we only want to predict at output locations, mask out the loss at the input locations\n",
    "        y[:3] = -1  # 固定4数字\n",
    "        y[-padding_len + 1:] = -1\n",
    "        return x, y"
   ],
   "metadata": {
    "collapsed": false,
    "pycharm": {
     "name": "#%%\n"
    }
   }
  },
  {
   "cell_type": "code",
   "execution_count": 5,
   "outputs": [],
   "source": [
    "ixes = list(range(len(raw_set)))\n",
    "np.random.shuffle(ixes)\n",
    "train_ixes = ixes[:-200]\n",
    "test_ixes = ixes[-200:]\n",
    "train_set = [raw_set[i] for i in train_ixes]\n",
    "test_set = [raw_set[i] for i in test_ixes]\n",
    "train_dataset = FixedLenDataset(train_set)\n",
    "test_dataset = FixedLenDataset(test_set)"
   ],
   "metadata": {
    "collapsed": false,
    "pycharm": {
     "name": "#%%\n"
    }
   }
  },
  {
   "cell_type": "code",
   "execution_count": 29,
   "outputs": [
    {
     "name": "stdout",
     "output_type": "stream",
     "text": [
      "14\n",
      "22 -1\n",
      "22 -1\n",
      "22 -1\n",
      "1065 7\n",
      "7 22\n",
      "22 10\n",
      "10 22\n",
      "22 8\n",
      "8 9\n",
      "9 1065\n",
      "1065 14\n",
      "14 22\n",
      "22 50256\n",
      "50256 -1\n"
     ]
    }
   ],
   "source": [
    "x, y = train_dataset[400]\n",
    "print(len(x))\n",
    "for a, b in zip(x,y):\n",
    "    print(int(a),int(b))"
   ],
   "metadata": {
    "collapsed": false,
    "pycharm": {
     "name": "#%%\n"
    }
   }
  },
  {
   "cell_type": "code",
   "execution_count": 7,
   "outputs": [
    {
     "name": "stdout",
     "output_type": "stream",
     "text": [
      "14\n"
     ]
    }
   ],
   "source": [
    "max_len = 0\n",
    "for x, y in train_dataset:\n",
    "    max_len = max(max_len, len(x))\n",
    "print(max_len)"
   ],
   "metadata": {
    "collapsed": false,
    "pycharm": {
     "name": "#%%\n"
    }
   }
  },
  {
   "cell_type": "code",
   "execution_count": 8,
   "metadata": {
    "pycharm": {
     "name": "#%%\n"
    }
   },
   "outputs": [
    {
     "name": "stdout",
     "output_type": "stream",
     "text": [
      "number of parameters: 2.50M\n"
     ]
    }
   ],
   "source": [
    "# create a GPT instance\n",
    "from mingpt.model import GPT\n",
    "\n",
    "model_config = GPT.get_default_config()\n",
    "model_config.model_type = 'gpt-nano'\n",
    "model_config.vocab_size = train_dataset.get_vocab_size()\n",
    "model_config.block_size = train_dataset.get_block_size()\n",
    "model = GPT(model_config)"
   ]
  },
  {
   "cell_type": "code",
   "execution_count": 9,
   "metadata": {
    "pycharm": {
     "name": "#%%\n"
    }
   },
   "outputs": [
    {
     "name": "stdout",
     "output_type": "stream",
     "text": [
      "running on device cpu\n"
     ]
    }
   ],
   "source": [
    "# create a Trainer object\n",
    "from mingpt.trainer import Trainer\n",
    "\n",
    "train_config = Trainer.get_default_config()\n",
    "train_config.learning_rate = 5e-4 # the model we're using is so small that we can go a bit faster\n",
    "train_config.max_iters = 10000\n",
    "train_config.batch_size = 64\n",
    "train_config.num_workers = 0\n",
    "trainer = Trainer(train_config, model, train_dataset)"
   ]
  },
  {
   "cell_type": "code",
   "execution_count": 10,
   "outputs": [],
   "source": [
    "def eval_split(dataset):\n",
    "    model.eval()\n",
    "    losses = list()\n",
    "    loader = DataLoader(dataset, batch_size=10, num_workers=0, drop_last=False)\n",
    "    for batch in loader:\n",
    "        batch = [t.to(trainer.device) for t in batch]\n",
    "        x, y = batch\n",
    "        # forward the model\n",
    "        with torch.no_grad():\n",
    "            logits, loss = model(x, y)\n",
    "        losses.append(loss)\n",
    "\n",
    "    model.train()\n",
    "    return np.mean(losses)"
   ],
   "metadata": {
    "collapsed": false,
    "pycharm": {
     "name": "#%%\n"
    }
   }
  },
  {
   "cell_type": "code",
   "execution_count": 11,
   "metadata": {
    "pycharm": {
     "name": "#%%\n"
    }
   },
   "outputs": [
    {
     "name": "stdout",
     "output_type": "stream",
     "text": [
      "iter_dt 0.00ms; iter 0: train loss 10.82069\n",
      "    test loss 10.68197\n",
      "iter_dt 185.18ms; iter 200: train loss 2.46511\n",
      "    test loss 2.43127\n",
      "iter_dt 176.05ms; iter 400: train loss 1.10322\n",
      "    test loss 1.03616\n",
      "iter_dt 179.25ms; iter 600: train loss 0.81373\n",
      "    test loss 0.75862\n",
      "iter_dt 171.47ms; iter 800: train loss 0.73295\n",
      "    test loss 0.67568\n",
      "iter_dt 165.59ms; iter 1000: train loss 0.67413\n",
      "    test loss 0.63003\n",
      "iter_dt 169.07ms; iter 1200: train loss 0.66450\n",
      "    test loss 0.60337\n",
      "iter_dt 172.33ms; iter 1400: train loss 0.64342\n",
      "    test loss 0.57751\n",
      "iter_dt 171.17ms; iter 1600: train loss 0.64861\n",
      "    test loss 0.57636\n",
      "iter_dt 176.42ms; iter 1800: train loss 0.66497\n",
      "    test loss 0.56110\n",
      "iter_dt 175.14ms; iter 2000: train loss 0.51268\n",
      "    test loss 0.53968\n",
      "iter_dt 172.73ms; iter 2200: train loss 0.53884\n",
      "    test loss 0.54911\n",
      "iter_dt 176.10ms; iter 2400: train loss 0.54317\n",
      "    test loss 0.52718\n",
      "iter_dt 172.55ms; iter 2600: train loss 0.48477\n",
      "    test loss 0.54084\n",
      "iter_dt 170.54ms; iter 2800: train loss 0.54902\n",
      "    test loss 0.53157\n",
      "iter_dt 170.82ms; iter 3000: train loss 0.52455\n",
      "    test loss 0.53085\n",
      "iter_dt 174.97ms; iter 3200: train loss 0.51183\n",
      "    test loss 0.53862\n",
      "iter_dt 172.68ms; iter 3400: train loss 0.44889\n",
      "    test loss 0.53531\n",
      "iter_dt 177.72ms; iter 3600: train loss 0.41283\n",
      "    test loss 0.52196\n",
      "iter_dt 179.30ms; iter 3800: train loss 0.40238\n",
      "    test loss 0.53665\n",
      "iter_dt 175.81ms; iter 4000: train loss 0.45225\n",
      "    test loss 0.53198\n",
      "iter_dt 172.40ms; iter 4200: train loss 0.47355\n",
      "    test loss 0.52741\n",
      "iter_dt 172.73ms; iter 4400: train loss 0.43523\n",
      "    test loss 0.53787\n",
      "iter_dt 178.75ms; iter 4600: train loss 0.44431\n",
      "    test loss 0.55154\n",
      "iter_dt 174.92ms; iter 4800: train loss 0.40266\n",
      "    test loss 0.54087\n",
      "iter_dt 174.43ms; iter 5000: train loss 0.40004\n",
      "    test loss 0.54675\n"
     ]
    },
    {
     "ename": "KeyboardInterrupt",
     "evalue": "",
     "output_type": "error",
     "traceback": [
      "\u001B[0;31m---------------------------------------------------------------------------\u001B[0m",
      "\u001B[0;31mKeyboardInterrupt\u001B[0m                         Traceback (most recent call last)",
      "Input \u001B[0;32mIn [11]\u001B[0m, in \u001B[0;36m<cell line: 8>\u001B[0;34m()\u001B[0m\n\u001B[1;32m      5\u001B[0m         \u001B[38;5;28mprint\u001B[39m(\u001B[38;5;124mf\u001B[39m\u001B[38;5;124m\"\u001B[39m\u001B[38;5;124m    test loss \u001B[39m\u001B[38;5;132;01m{\u001B[39;00mtest_loss\u001B[38;5;132;01m:\u001B[39;00m\u001B[38;5;124m.5f\u001B[39m\u001B[38;5;132;01m}\u001B[39;00m\u001B[38;5;124m\"\u001B[39m)\n\u001B[1;32m      6\u001B[0m trainer\u001B[38;5;241m.\u001B[39mset_callback(\u001B[38;5;124m'\u001B[39m\u001B[38;5;124mon_batch_end\u001B[39m\u001B[38;5;124m'\u001B[39m, batch_end_callback)\n\u001B[0;32m----> 8\u001B[0m \u001B[43mtrainer\u001B[49m\u001B[38;5;241;43m.\u001B[39;49m\u001B[43mrun\u001B[49m\u001B[43m(\u001B[49m\u001B[43m)\u001B[49m\n",
      "File \u001B[0;32m~/Desktop/AIGC/minGPT/mingpt/trainer.py:93\u001B[0m, in \u001B[0;36mTrainer.run\u001B[0;34m(self)\u001B[0m\n\u001B[1;32m     90\u001B[0m x, y \u001B[38;5;241m=\u001B[39m batch\n\u001B[1;32m     92\u001B[0m \u001B[38;5;66;03m# forward the model\u001B[39;00m\n\u001B[0;32m---> 93\u001B[0m logits, \u001B[38;5;28mself\u001B[39m\u001B[38;5;241m.\u001B[39mloss \u001B[38;5;241m=\u001B[39m \u001B[43mmodel\u001B[49m\u001B[43m(\u001B[49m\u001B[43mx\u001B[49m\u001B[43m,\u001B[49m\u001B[43m \u001B[49m\u001B[43my\u001B[49m\u001B[43m)\u001B[49m\n\u001B[1;32m     95\u001B[0m \u001B[38;5;66;03m# backprop and update the parameters\u001B[39;00m\n\u001B[1;32m     96\u001B[0m model\u001B[38;5;241m.\u001B[39mzero_grad(set_to_none\u001B[38;5;241m=\u001B[39m\u001B[38;5;28;01mTrue\u001B[39;00m)\n",
      "File \u001B[0;32m~/miniforge3/lib/python3.9/site-packages/torch/nn/modules/module.py:1130\u001B[0m, in \u001B[0;36mModule._call_impl\u001B[0;34m(self, *input, **kwargs)\u001B[0m\n\u001B[1;32m   1126\u001B[0m \u001B[38;5;66;03m# If we don't have any hooks, we want to skip the rest of the logic in\u001B[39;00m\n\u001B[1;32m   1127\u001B[0m \u001B[38;5;66;03m# this function, and just call forward.\u001B[39;00m\n\u001B[1;32m   1128\u001B[0m \u001B[38;5;28;01mif\u001B[39;00m \u001B[38;5;129;01mnot\u001B[39;00m (\u001B[38;5;28mself\u001B[39m\u001B[38;5;241m.\u001B[39m_backward_hooks \u001B[38;5;129;01mor\u001B[39;00m \u001B[38;5;28mself\u001B[39m\u001B[38;5;241m.\u001B[39m_forward_hooks \u001B[38;5;129;01mor\u001B[39;00m \u001B[38;5;28mself\u001B[39m\u001B[38;5;241m.\u001B[39m_forward_pre_hooks \u001B[38;5;129;01mor\u001B[39;00m _global_backward_hooks\n\u001B[1;32m   1129\u001B[0m         \u001B[38;5;129;01mor\u001B[39;00m _global_forward_hooks \u001B[38;5;129;01mor\u001B[39;00m _global_forward_pre_hooks):\n\u001B[0;32m-> 1130\u001B[0m     \u001B[38;5;28;01mreturn\u001B[39;00m \u001B[43mforward_call\u001B[49m\u001B[43m(\u001B[49m\u001B[38;5;241;43m*\u001B[39;49m\u001B[38;5;28;43minput\u001B[39;49m\u001B[43m,\u001B[49m\u001B[43m \u001B[49m\u001B[38;5;241;43m*\u001B[39;49m\u001B[38;5;241;43m*\u001B[39;49m\u001B[43mkwargs\u001B[49m\u001B[43m)\u001B[49m\n\u001B[1;32m   1131\u001B[0m \u001B[38;5;66;03m# Do not call functions when jit is used\u001B[39;00m\n\u001B[1;32m   1132\u001B[0m full_backward_hooks, non_full_backward_hooks \u001B[38;5;241m=\u001B[39m [], []\n",
      "File \u001B[0;32m~/Desktop/AIGC/minGPT/mingpt/model.py:278\u001B[0m, in \u001B[0;36mGPT.forward\u001B[0;34m(self, idx, targets)\u001B[0m\n\u001B[1;32m    276\u001B[0m loss \u001B[38;5;241m=\u001B[39m \u001B[38;5;28;01mNone\u001B[39;00m\n\u001B[1;32m    277\u001B[0m \u001B[38;5;28;01mif\u001B[39;00m targets \u001B[38;5;129;01mis\u001B[39;00m \u001B[38;5;129;01mnot\u001B[39;00m \u001B[38;5;28;01mNone\u001B[39;00m:\n\u001B[0;32m--> 278\u001B[0m     loss \u001B[38;5;241m=\u001B[39m \u001B[43mF\u001B[49m\u001B[38;5;241;43m.\u001B[39;49m\u001B[43mcross_entropy\u001B[49m\u001B[43m(\u001B[49m\u001B[43mlogits\u001B[49m\u001B[38;5;241;43m.\u001B[39;49m\u001B[43mview\u001B[49m\u001B[43m(\u001B[49m\u001B[38;5;241;43m-\u001B[39;49m\u001B[38;5;241;43m1\u001B[39;49m\u001B[43m,\u001B[49m\u001B[43m \u001B[49m\u001B[43mlogits\u001B[49m\u001B[38;5;241;43m.\u001B[39;49m\u001B[43msize\u001B[49m\u001B[43m(\u001B[49m\u001B[38;5;241;43m-\u001B[39;49m\u001B[38;5;241;43m1\u001B[39;49m\u001B[43m)\u001B[49m\u001B[43m)\u001B[49m\u001B[43m,\u001B[49m\u001B[43m \u001B[49m\u001B[43mtargets\u001B[49m\u001B[38;5;241;43m.\u001B[39;49m\u001B[43mview\u001B[49m\u001B[43m(\u001B[49m\u001B[38;5;241;43m-\u001B[39;49m\u001B[38;5;241;43m1\u001B[39;49m\u001B[43m)\u001B[49m\u001B[43m,\u001B[49m\u001B[43m \u001B[49m\u001B[43mignore_index\u001B[49m\u001B[38;5;241;43m=\u001B[39;49m\u001B[38;5;241;43m-\u001B[39;49m\u001B[38;5;241;43m1\u001B[39;49m\u001B[43m)\u001B[49m\n\u001B[1;32m    280\u001B[0m \u001B[38;5;28;01mreturn\u001B[39;00m logits, loss\n",
      "File \u001B[0;32m~/miniforge3/lib/python3.9/site-packages/torch/nn/functional.py:3014\u001B[0m, in \u001B[0;36mcross_entropy\u001B[0;34m(input, target, weight, size_average, ignore_index, reduce, reduction, label_smoothing)\u001B[0m\n\u001B[1;32m   3012\u001B[0m \u001B[38;5;28;01mif\u001B[39;00m size_average \u001B[38;5;129;01mis\u001B[39;00m \u001B[38;5;129;01mnot\u001B[39;00m \u001B[38;5;28;01mNone\u001B[39;00m \u001B[38;5;129;01mor\u001B[39;00m reduce \u001B[38;5;129;01mis\u001B[39;00m \u001B[38;5;129;01mnot\u001B[39;00m \u001B[38;5;28;01mNone\u001B[39;00m:\n\u001B[1;32m   3013\u001B[0m     reduction \u001B[38;5;241m=\u001B[39m _Reduction\u001B[38;5;241m.\u001B[39mlegacy_get_string(size_average, reduce)\n\u001B[0;32m-> 3014\u001B[0m \u001B[38;5;28;01mreturn\u001B[39;00m \u001B[43mtorch\u001B[49m\u001B[38;5;241;43m.\u001B[39;49m\u001B[43m_C\u001B[49m\u001B[38;5;241;43m.\u001B[39;49m\u001B[43m_nn\u001B[49m\u001B[38;5;241;43m.\u001B[39;49m\u001B[43mcross_entropy_loss\u001B[49m\u001B[43m(\u001B[49m\u001B[38;5;28;43minput\u001B[39;49m\u001B[43m,\u001B[49m\u001B[43m \u001B[49m\u001B[43mtarget\u001B[49m\u001B[43m,\u001B[49m\u001B[43m \u001B[49m\u001B[43mweight\u001B[49m\u001B[43m,\u001B[49m\u001B[43m \u001B[49m\u001B[43m_Reduction\u001B[49m\u001B[38;5;241;43m.\u001B[39;49m\u001B[43mget_enum\u001B[49m\u001B[43m(\u001B[49m\u001B[43mreduction\u001B[49m\u001B[43m)\u001B[49m\u001B[43m,\u001B[49m\u001B[43m \u001B[49m\u001B[43mignore_index\u001B[49m\u001B[43m,\u001B[49m\u001B[43m \u001B[49m\u001B[43mlabel_smoothing\u001B[49m\u001B[43m)\u001B[49m\n",
      "\u001B[0;31mKeyboardInterrupt\u001B[0m: "
     ]
    }
   ],
   "source": [
    "def batch_end_callback(trainer):\n",
    "    if trainer.iter_num % 200== 0:\n",
    "        print(f\"iter_dt {trainer.iter_dt * 1000:.2f}ms; iter {trainer.iter_num}: train loss {trainer.loss.item():.5f}\")\n",
    "        test_loss = eval_split(test_dataset)\n",
    "        print(f\"    test loss {test_loss:.5f}\")\n",
    "trainer.set_callback('on_batch_end', batch_end_callback)\n",
    "\n",
    "trainer.run()"
   ]
  },
  {
   "cell_type": "code",
   "execution_count": 12,
   "outputs": [],
   "source": [
    "##################### until now #####################"
   ],
   "metadata": {
    "collapsed": false,
    "pycharm": {
     "name": "#%%\n"
    }
   }
  },
  {
   "cell_type": "code",
   "execution_count": 36,
   "outputs": [
    {
     "name": "stdout",
     "output_type": "stream",
     "text": [
      "tensor([[19, 20, 24, 24]]) tensor([[   19,    20,    24,    24,     7,    19,     9,    24,    12,    20,\n",
      "             8,    12,    24, 50256]])\n",
      "(4*9-5)-9<|endoftext|>\n",
      "tensor([[  16,   18,  940, 1485]]) tensor([[   16,    18,   940,  1485,     7,    16,     9,   940,    10,  1485,\n",
      "             8,    10,    18, 50256]])\n",
      "(1*10+13)+3<|endoftext|>\n",
      "tensor([[  19,   20,   21, 1485]]) tensor([[   19,    20,    21,  1485,     7,  1485,    12,    21,     8,     9,\n",
      "            19,    12,    20, 50256]])\n",
      "(13-6)*4-5<|endoftext|>\n",
      "tensor([[21, 21, 21, 23]]) tensor([[   21,    21,    21,    23,    21,     9,    23,    14,     7,    21,\n",
      "            10,    21,     8, 50256]])\n",
      "6*8/(6+6)<|endoftext|>\n",
      "tensor([[  19,   23, 1157, 1485]]) tensor([[   19,    23,  1157,  1485,     7,  1485,    12,    23,     8,     9,\n",
      "          1157,    12,    19, 50256]])\n",
      "(13-8)*11-4<|endoftext|>\n",
      "tensor([[  17,   23,   24, 1485]]) tensor([[   17,    23,    24,  1485,     7,  1485,    10,    23,    14,    17,\n",
      "             8,    10,    24, 50256]])\n",
      "(13+8/2)+9<|endoftext|>\n",
      "tensor([[  20,   24, 1065, 1485]]) tensor([[   20,    24,  1065,  1485,  3919,  3280, 50256,    10,    24,    12,\n",
      "            20, 50256,     8, 50256]])\n",
      "no answer<|endoftext|>+9-5<|endoftext|>)<|endoftext|>\n",
      "tensor([[  18,   21,   24, 1485]]) tensor([[   18,    21,    24,  1485,     7,  1485,    10,    18,    12,    24,\n",
      "             8,     9,    21, 50256]])\n",
      "(13+3-9)*6<|endoftext|>\n",
      "tensor([[  18,   18,   24, 1157]]) tensor([[   18,    18,    24,  1157,     7,  1157,     9,    18,    12,    18,\n",
      "             9,    24,     8, 50256]])\n",
      "(11*3-3*9)<|endoftext|>\n",
      "tensor([[18, 22, 22, 23]]) tensor([[   18,    22,    22,    23,    18,    10,    22,    10,    22,    10,\n",
      "            23, 50256,    23, 50256]])\n",
      "3+7+7+8<|endoftext|>8<|endoftext|>\n"
     ]
    }
   ],
   "source": [
    "def generate_1by1(model):\n",
    "    # 先batch生成，再每个遍历直到第一个终止符\n",
    "    loader = DataLoader(test_dataset, batch_size=1, num_workers=0, drop_last=False)\n",
    "    model.eval()\n",
    "    for i, batch in enumerate(loader):\n",
    "        batch = [t.to(trainer.device) for t in batch]\n",
    "        x, y = batch\n",
    "        # forward the model\n",
    "        inp = x[:, :4]\n",
    "        out = model.generate(inp, 10, do_sample=False)\n",
    "        if 15 <= i < 25:\n",
    "            print(inp, out)\n",
    "            print(test_dataset.tokenizer.decode(out[0][4:].cpu().squeeze().tolist()))\n",
    "        if i >= 25:\n",
    "            break\n",
    "\n",
    "generate_1by1(model)"
   ],
   "metadata": {
    "collapsed": false,
    "pycharm": {
     "name": "#%%\n"
    }
   }
  },
  {
   "cell_type": "code",
   "execution_count": 13,
   "metadata": {
    "pycharm": {
     "name": "#%%\n"
    }
   },
   "outputs": [
    {
     "data": {
      "text/plain": "GPT(\n  (transformer): ModuleDict(\n    (wte): Embedding(50257, 48)\n    (wpe): Embedding(14, 48)\n    (drop): Dropout(p=0.1, inplace=False)\n    (h): ModuleList(\n      (0): Block(\n        (ln_1): LayerNorm((48,), eps=1e-05, elementwise_affine=True)\n        (attn): CausalSelfAttention(\n          (c_attn): Linear(in_features=48, out_features=144, bias=True)\n          (c_proj): Linear(in_features=48, out_features=48, bias=True)\n          (attn_dropout): Dropout(p=0.1, inplace=False)\n          (resid_dropout): Dropout(p=0.1, inplace=False)\n        )\n        (ln_2): LayerNorm((48,), eps=1e-05, elementwise_affine=True)\n        (mlp): ModuleDict(\n          (c_fc): Linear(in_features=48, out_features=192, bias=True)\n          (c_proj): Linear(in_features=192, out_features=48, bias=True)\n          (act): NewGELU()\n          (dropout): Dropout(p=0.1, inplace=False)\n        )\n      )\n      (1): Block(\n        (ln_1): LayerNorm((48,), eps=1e-05, elementwise_affine=True)\n        (attn): CausalSelfAttention(\n          (c_attn): Linear(in_features=48, out_features=144, bias=True)\n          (c_proj): Linear(in_features=48, out_features=48, bias=True)\n          (attn_dropout): Dropout(p=0.1, inplace=False)\n          (resid_dropout): Dropout(p=0.1, inplace=False)\n        )\n        (ln_2): LayerNorm((48,), eps=1e-05, elementwise_affine=True)\n        (mlp): ModuleDict(\n          (c_fc): Linear(in_features=48, out_features=192, bias=True)\n          (c_proj): Linear(in_features=192, out_features=48, bias=True)\n          (act): NewGELU()\n          (dropout): Dropout(p=0.1, inplace=False)\n        )\n      )\n      (2): Block(\n        (ln_1): LayerNorm((48,), eps=1e-05, elementwise_affine=True)\n        (attn): CausalSelfAttention(\n          (c_attn): Linear(in_features=48, out_features=144, bias=True)\n          (c_proj): Linear(in_features=48, out_features=48, bias=True)\n          (attn_dropout): Dropout(p=0.1, inplace=False)\n          (resid_dropout): Dropout(p=0.1, inplace=False)\n        )\n        (ln_2): LayerNorm((48,), eps=1e-05, elementwise_affine=True)\n        (mlp): ModuleDict(\n          (c_fc): Linear(in_features=48, out_features=192, bias=True)\n          (c_proj): Linear(in_features=192, out_features=48, bias=True)\n          (act): NewGELU()\n          (dropout): Dropout(p=0.1, inplace=False)\n        )\n      )\n    )\n    (ln_f): LayerNorm((48,), eps=1e-05, elementwise_affine=True)\n  )\n  (lm_head): Linear(in_features=48, out_features=50257, bias=False)\n)"
     },
     "execution_count": 13,
     "metadata": {},
     "output_type": "execute_result"
    }
   ],
   "source": [
    "exit()\n",
    "# now let's perform some evaluation\n",
    "model.eval()"
   ]
  },
  {
   "cell_type": "code",
   "execution_count": 14,
   "metadata": {
    "pycharm": {
     "name": "#%%\n"
    }
   },
   "outputs": [
    {
     "ename": "NameError",
     "evalue": "name 'n' is not defined",
     "output_type": "error",
     "traceback": [
      "\u001B[0;31m---------------------------------------------------------------------------\u001B[0m",
      "\u001B[0;31mNameError\u001B[0m                                 Traceback (most recent call last)",
      "Input \u001B[0;32mIn [14]\u001B[0m, in \u001B[0;36m<cell line: 29>\u001B[0;34m()\u001B[0m\n\u001B[1;32m     28\u001B[0m \u001B[38;5;66;03m# run a lot of examples from both train and test through the model and verify the output correctness\u001B[39;00m\n\u001B[1;32m     29\u001B[0m \u001B[38;5;28;01mwith\u001B[39;00m torch\u001B[38;5;241m.\u001B[39mno_grad():\n\u001B[0;32m---> 30\u001B[0m     train_score \u001B[38;5;241m=\u001B[39m \u001B[43meval_split\u001B[49m\u001B[43m(\u001B[49m\u001B[43mtrainer\u001B[49m\u001B[43m,\u001B[49m\u001B[43m \u001B[49m\u001B[38;5;124;43m'\u001B[39;49m\u001B[38;5;124;43mtrain\u001B[39;49m\u001B[38;5;124;43m'\u001B[39;49m\u001B[43m,\u001B[49m\u001B[43m \u001B[49m\u001B[43mmax_batches\u001B[49m\u001B[38;5;241;43m=\u001B[39;49m\u001B[38;5;241;43m50\u001B[39;49m\u001B[43m)\u001B[49m\n\u001B[1;32m     31\u001B[0m     test_score  \u001B[38;5;241m=\u001B[39m eval_split(trainer, \u001B[38;5;124m'\u001B[39m\u001B[38;5;124mtest\u001B[39m\u001B[38;5;124m'\u001B[39m,  max_batches\u001B[38;5;241m=\u001B[39m\u001B[38;5;241m50\u001B[39m)\n",
      "Input \u001B[0;32mIn [14]\u001B[0m, in \u001B[0;36meval_split\u001B[0;34m(trainer, split, max_batches)\u001B[0m\n\u001B[1;32m     12\u001B[0m \u001B[38;5;66;03m# let the model sample the rest of the sequence\u001B[39;00m\n\u001B[1;32m     13\u001B[0m cat \u001B[38;5;241m=\u001B[39m model\u001B[38;5;241m.\u001B[39mgenerate(inp, \u001B[38;5;241m14\u001B[39m \u001B[38;5;241m-\u001B[39m \u001B[38;5;241m4\u001B[39m, do_sample\u001B[38;5;241m=\u001B[39m\u001B[38;5;28;01mFalse\u001B[39;00m) \u001B[38;5;66;03m# using greedy argmax, not sampling\u001B[39;00m\n\u001B[0;32m---> 14\u001B[0m sol_candidate \u001B[38;5;241m=\u001B[39m cat[:, \u001B[43mn\u001B[49m:] \u001B[38;5;66;03m# isolate the filled in sequence\u001B[39;00m\n\u001B[1;32m     15\u001B[0m \u001B[38;5;66;03m# compare the predicted sequence to the true sequence\u001B[39;00m\n\u001B[1;32m     16\u001B[0m correct \u001B[38;5;241m=\u001B[39m (sol \u001B[38;5;241m==\u001B[39m sol_candidate)\u001B[38;5;241m.\u001B[39mall(\u001B[38;5;241m1\u001B[39m)\u001B[38;5;241m.\u001B[39mcpu() \u001B[38;5;66;03m# Software 1.0 vs. Software 2.0 fight RIGHT on this line haha\u001B[39;00m\n",
      "\u001B[0;31mNameError\u001B[0m: name 'n' is not defined"
     ]
    }
   ],
   "source": [
    "def eval_split(trainer, split, max_batches):\n",
    "    dataset = {'train':train_dataset, 'test':test_dataset}[split]\n",
    "    results = []\n",
    "    mistakes_printed_already = 0\n",
    "    loader = DataLoader(dataset, batch_size=100, num_workers=0, drop_last=False)\n",
    "    for b, (x, y) in enumerate(loader):\n",
    "        x = x.to(trainer.device)\n",
    "        y = y.to(trainer.device)\n",
    "        # isolate the input pattern alone\n",
    "        inp = x[:, :4]\n",
    "        sol = y[:, 4:]\n",
    "        # let the model sample the rest of the sequence\n",
    "        cat = model.generate(inp, 14 - 4, do_sample=False) # using greedy argmax, not sampling\n",
    "        sol_candidate = cat[:, n:] # isolate the filled in sequence\n",
    "        # compare the predicted sequence to the true sequence\n",
    "        correct = (sol == sol_candidate).all(1).cpu() # Software 1.0 vs. Software 2.0 fight RIGHT on this line haha\n",
    "        for i in range(x.size(0)):\n",
    "            results.append(int(correct[i]))\n",
    "            if not correct[i] and mistakes_printed_already < 3: # only print up to 5 mistakes to get a sense\n",
    "                mistakes_printed_already += 1\n",
    "                print(\"GPT claims that %s sorted is %s but gt is %s\" % (inp[i].tolist(), sol_candidate[i].tolist(), sol[i].tolist()))\n",
    "        if max_batches is not None and b+1 >= max_batches:\n",
    "            break\n",
    "    rt = torch.tensor(results, dtype=torch.float)\n",
    "    print(\"%s final score: %d/%d = %.2f%% correct\" % (split, rt.sum(), len(results), 100*rt.mean()))\n",
    "    return rt.sum()\n",
    "\n",
    "# run a lot of examples from both train and test through the model and verify the output correctness\n",
    "with torch.no_grad():\n",
    "    train_score = eval_split(trainer, 'train', max_batches=50)\n",
    "    test_score  = eval_split(trainer, 'test',  max_batches=50)"
   ]
  },
  {
   "cell_type": "code",
   "execution_count": null,
   "metadata": {
    "pycharm": {
     "name": "#%%\n"
    }
   },
   "outputs": [],
   "source": [
    "# let's run a random given sequence through the model as well\n",
    "n = train_dataset.length # naugy direct access shrug\n",
    "inp = torch.tensor([[0, 0, 2, 1, 0, 1]], dtype=torch.long).to(trainer.device)\n",
    "assert inp[0].nelement() == n\n",
    "with torch.no_grad():\n",
    "    cat = model.generate(inp, n, do_sample=False)\n",
    "sol = torch.sort(inp[0])[0]\n",
    "sol_candidate = cat[:, n:]\n",
    "print('input sequence  :', inp.tolist())\n",
    "print('predicted sorted:', sol_candidate.tolist())\n",
    "print('gt sort         :', sol.tolist())\n",
    "print('matches         :', bool((sol == sol_candidate).all()))"
   ]
  }
 ],
 "metadata": {
  "kernelspec": {
   "display_name": "Python 3.10.4 64-bit",
   "language": "python",
   "name": "python3"
  },
  "language_info": {
   "codemirror_mode": {
    "name": "ipython",
    "version": 3
   },
   "file_extension": ".py",
   "mimetype": "text/x-python",
   "name": "python",
   "nbconvert_exporter": "python",
   "pygments_lexer": "ipython3",
   "version": "3.10.4"
  },
  "orig_nbformat": 4,
  "vscode": {
   "interpreter": {
    "hash": "3ad933181bd8a04b432d3370b9dc3b0662ad032c4dfaa4e4f1596c548f763858"
   }
  }
 },
 "nbformat": 4,
 "nbformat_minor": 2
}
